{
 "cells": [
  {
   "cell_type": "markdown",
   "metadata": {},
   "source": [
    "# Credit Card Customer Segmentation \n",
    "\n",
    "**Project Overview:**\n",
    "\n",
    "In this project, we’ll play the role of a data scientist working for a credit card company. We’ve been given a dataset containing information about the company’s clients and asked to help segment them into different groups in order to apply different business strategies for each type of customer.\n",
    "\n",
    "The company expects to receive a group for each client and also an explanation of the characteristics of each group and the main points that make them different.\n",
    "\n",
    "In a planning meeting with the Data Science coordinator, it was decided that we should use the K-means algorithm to segment the data.\n",
    "\n",
    "In order to use the algorithm properly and achieve all the goals that the company has set for us, we'll go through the following steps:\n",
    "\n",
    "* Analyse the dataset;\n",
    "* Prepare the data for modeling;\n",
    "* Find an appropriate number of clusters;\n",
    "* Segment the data;\n",
    "* Interpret and explain the results.\n"
   ]
  },
  {
   "cell_type": "markdown",
   "metadata": {},
   "source": [
    "### Data Dictionary:\n",
    "\n",
    "* `customer_id`: unique identifier for each customer.\n",
    "* `age`: customer age in years.\n",
    "* `gender`: customer gender (M or F).\n",
    "* `dependent_count`: number of dependents of each customer.\n",
    "* `education_level`: level of education (\"High School\", \"Graduate\", etc.).\n",
    "* `marital_status`: marital status (\"Single\", \"Married\", etc.).\n",
    "* `estimated_income`: the estimated income for the customer projected by the data science team.\n",
    "* `months_on_book`: time as a customer in months.\n",
    "* `total_relationship_count`: number of times the customer contacted the company.\n",
    "* `months_inactive_12_mon`: number of months the customer did not use the credit card in the last 12 months.\n",
    "* `credit_limit`: customer's credit limit.\n",
    "* `total_trans_amount`: the overall amount of money spent on the card by the customer.\n",
    "* `total_trans_count`: the overall number of times the customer used the card.\n",
    "* `avg_utilization_ratio`: daily average utilization ratio. 0"
   ]
  },
  {
   "cell_type": "markdown",
   "metadata": {},
   "source": [
    "## Part 1: Data Exploration"
   ]
  },
  {
   "cell_type": "code",
   "execution_count": 1,
   "metadata": {},
   "outputs": [],
   "source": [
    "# Importing Libraries\n",
    "import pandas as pd\n",
    "import numpy as np\n",
    "import matplotlib.pyplot as plt\n",
    "import seaborn as sns\n",
    "\n",
    "from sklearn.preprocessing import StandardScaler\n",
    "from sklearn.metrics import silhouette_score\n",
    "from sklearn.cluster import KMeans\n",
    "\n",
    "import warnings\n",
    "warnings.filterwarnings(\"ignore\")"
   ]
  },
  {
   "cell_type": "code",
   "execution_count": 127,
   "metadata": {},
   "outputs": [
    {
     "data": {
      "text/html": [
       "<div>\n",
       "<style scoped>\n",
       "    .dataframe tbody tr th:only-of-type {\n",
       "        vertical-align: middle;\n",
       "    }\n",
       "\n",
       "    .dataframe tbody tr th {\n",
       "        vertical-align: top;\n",
       "    }\n",
       "\n",
       "    .dataframe thead th {\n",
       "        text-align: right;\n",
       "    }\n",
       "</style>\n",
       "<table border=\"1\" class=\"dataframe\">\n",
       "  <thead>\n",
       "    <tr style=\"text-align: right;\">\n",
       "      <th></th>\n",
       "      <th>customer_id</th>\n",
       "      <th>age</th>\n",
       "      <th>gender</th>\n",
       "      <th>dependent_count</th>\n",
       "      <th>education_level</th>\n",
       "      <th>marital_status</th>\n",
       "      <th>estimated_income</th>\n",
       "      <th>months_on_book</th>\n",
       "      <th>total_relationship_count</th>\n",
       "      <th>months_inactive_12_mon</th>\n",
       "      <th>credit_limit</th>\n",
       "      <th>total_trans_amount</th>\n",
       "      <th>total_trans_count</th>\n",
       "      <th>avg_utilization_ratio</th>\n",
       "    </tr>\n",
       "  </thead>\n",
       "  <tbody>\n",
       "    <tr>\n",
       "      <th>0</th>\n",
       "      <td>768805383</td>\n",
       "      <td>45</td>\n",
       "      <td>M</td>\n",
       "      <td>3</td>\n",
       "      <td>High School</td>\n",
       "      <td>Married</td>\n",
       "      <td>69000</td>\n",
       "      <td>39</td>\n",
       "      <td>5</td>\n",
       "      <td>1</td>\n",
       "      <td>12691.0</td>\n",
       "      <td>1144</td>\n",
       "      <td>42</td>\n",
       "      <td>0.061</td>\n",
       "    </tr>\n",
       "    <tr>\n",
       "      <th>1</th>\n",
       "      <td>818770008</td>\n",
       "      <td>49</td>\n",
       "      <td>F</td>\n",
       "      <td>5</td>\n",
       "      <td>Graduate</td>\n",
       "      <td>Single</td>\n",
       "      <td>24000</td>\n",
       "      <td>44</td>\n",
       "      <td>6</td>\n",
       "      <td>1</td>\n",
       "      <td>8256.0</td>\n",
       "      <td>1291</td>\n",
       "      <td>33</td>\n",
       "      <td>0.105</td>\n",
       "    </tr>\n",
       "    <tr>\n",
       "      <th>2</th>\n",
       "      <td>713982108</td>\n",
       "      <td>51</td>\n",
       "      <td>M</td>\n",
       "      <td>3</td>\n",
       "      <td>Graduate</td>\n",
       "      <td>Married</td>\n",
       "      <td>93000</td>\n",
       "      <td>36</td>\n",
       "      <td>4</td>\n",
       "      <td>1</td>\n",
       "      <td>3418.0</td>\n",
       "      <td>1887</td>\n",
       "      <td>20</td>\n",
       "      <td>0.000</td>\n",
       "    </tr>\n",
       "    <tr>\n",
       "      <th>3</th>\n",
       "      <td>769911858</td>\n",
       "      <td>40</td>\n",
       "      <td>F</td>\n",
       "      <td>4</td>\n",
       "      <td>High School</td>\n",
       "      <td>Unknown</td>\n",
       "      <td>37000</td>\n",
       "      <td>34</td>\n",
       "      <td>3</td>\n",
       "      <td>4</td>\n",
       "      <td>3313.0</td>\n",
       "      <td>1171</td>\n",
       "      <td>20</td>\n",
       "      <td>0.760</td>\n",
       "    </tr>\n",
       "    <tr>\n",
       "      <th>4</th>\n",
       "      <td>709106358</td>\n",
       "      <td>40</td>\n",
       "      <td>M</td>\n",
       "      <td>3</td>\n",
       "      <td>Uneducated</td>\n",
       "      <td>Married</td>\n",
       "      <td>65000</td>\n",
       "      <td>21</td>\n",
       "      <td>5</td>\n",
       "      <td>1</td>\n",
       "      <td>4716.0</td>\n",
       "      <td>816</td>\n",
       "      <td>28</td>\n",
       "      <td>0.000</td>\n",
       "    </tr>\n",
       "  </tbody>\n",
       "</table>\n",
       "</div>"
      ],
      "text/plain": [
       "   customer_id  age gender  dependent_count education_level marital_status  \\\n",
       "0    768805383   45      M                3     High School        Married   \n",
       "1    818770008   49      F                5        Graduate         Single   \n",
       "2    713982108   51      M                3        Graduate        Married   \n",
       "3    769911858   40      F                4     High School        Unknown   \n",
       "4    709106358   40      M                3      Uneducated        Married   \n",
       "\n",
       "   estimated_income  months_on_book  total_relationship_count  \\\n",
       "0             69000              39                         5   \n",
       "1             24000              44                         6   \n",
       "2             93000              36                         4   \n",
       "3             37000              34                         3   \n",
       "4             65000              21                         5   \n",
       "\n",
       "   months_inactive_12_mon  credit_limit  total_trans_amount  \\\n",
       "0                       1       12691.0                1144   \n",
       "1                       1        8256.0                1291   \n",
       "2                       1        3418.0                1887   \n",
       "3                       4        3313.0                1171   \n",
       "4                       1        4716.0                 816   \n",
       "\n",
       "   total_trans_count  avg_utilization_ratio  \n",
       "0                 42                  0.061  \n",
       "1                 33                  0.105  \n",
       "2                 20                  0.000  \n",
       "3                 20                  0.760  \n",
       "4                 28                  0.000  "
      ]
     },
     "execution_count": 127,
     "metadata": {},
     "output_type": "execute_result"
    }
   ],
   "source": [
    "# Load the data\n",
    "df = pd.read_csv(\"customer_segmentation.csv\")\n",
    "\n",
    "df.head()"
   ]
  },
  {
   "cell_type": "code",
   "execution_count": 128,
   "metadata": {},
   "outputs": [
    {
     "data": {
      "text/plain": [
       "(10127, 14)"
      ]
     },
     "execution_count": 128,
     "metadata": {},
     "output_type": "execute_result"
    }
   ],
   "source": [
    "df.shape"
   ]
  },
  {
   "cell_type": "code",
   "execution_count": 129,
   "metadata": {},
   "outputs": [
    {
     "name": "stdout",
     "output_type": "stream",
     "text": [
      "<class 'pandas.core.frame.DataFrame'>\n",
      "RangeIndex: 10127 entries, 0 to 10126\n",
      "Data columns (total 14 columns):\n",
      " #   Column                    Non-Null Count  Dtype  \n",
      "---  ------                    --------------  -----  \n",
      " 0   customer_id               10127 non-null  int64  \n",
      " 1   age                       10127 non-null  int64  \n",
      " 2   gender                    10127 non-null  object \n",
      " 3   dependent_count           10127 non-null  int64  \n",
      " 4   education_level           10127 non-null  object \n",
      " 5   marital_status            10127 non-null  object \n",
      " 6   estimated_income          10127 non-null  int64  \n",
      " 7   months_on_book            10127 non-null  int64  \n",
      " 8   total_relationship_count  10127 non-null  int64  \n",
      " 9   months_inactive_12_mon    10127 non-null  int64  \n",
      " 10  credit_limit              10127 non-null  float64\n",
      " 11  total_trans_amount        10127 non-null  int64  \n",
      " 12  total_trans_count         10127 non-null  int64  \n",
      " 13  avg_utilization_ratio     10127 non-null  float64\n",
      "dtypes: float64(2), int64(9), object(3)\n",
      "memory usage: 1.1+ MB\n"
     ]
    }
   ],
   "source": [
    "df.info()"
   ]
  },
  {
   "cell_type": "code",
   "execution_count": 130,
   "metadata": {},
   "outputs": [
    {
     "data": {
      "text/plain": [
       "customer_id                 0\n",
       "age                         0\n",
       "gender                      0\n",
       "dependent_count             0\n",
       "education_level             0\n",
       "marital_status              0\n",
       "estimated_income            0\n",
       "months_on_book              0\n",
       "total_relationship_count    0\n",
       "months_inactive_12_mon      0\n",
       "credit_limit                0\n",
       "total_trans_amount          0\n",
       "total_trans_count           0\n",
       "avg_utilization_ratio       0\n",
       "dtype: int64"
      ]
     },
     "execution_count": 130,
     "metadata": {},
     "output_type": "execute_result"
    }
   ],
   "source": [
    "# Checking for missing values\n",
    "df.isnull().sum()"
   ]
  },
  {
   "cell_type": "markdown",
   "metadata": {},
   "source": [
    "The dataset has a total of 14 columns and 10127 rows, with no missing values.\n",
    "Most of the columns are numeric, with only 3 columns stored as string object. "
   ]
  },
  {
   "cell_type": "markdown",
   "metadata": {},
   "source": [
    "### 1.1: Exploring Numerical Columns"
   ]
  },
  {
   "cell_type": "code",
   "execution_count": 131,
   "metadata": {},
   "outputs": [
    {
     "data": {
      "text/html": [
       "<div>\n",
       "<style scoped>\n",
       "    .dataframe tbody tr th:only-of-type {\n",
       "        vertical-align: middle;\n",
       "    }\n",
       "\n",
       "    .dataframe tbody tr th {\n",
       "        vertical-align: top;\n",
       "    }\n",
       "\n",
       "    .dataframe thead th {\n",
       "        text-align: right;\n",
       "    }\n",
       "</style>\n",
       "<table border=\"1\" class=\"dataframe\">\n",
       "  <thead>\n",
       "    <tr style=\"text-align: right;\">\n",
       "      <th></th>\n",
       "      <th>customer_id</th>\n",
       "      <th>age</th>\n",
       "      <th>dependent_count</th>\n",
       "      <th>estimated_income</th>\n",
       "      <th>months_on_book</th>\n",
       "      <th>total_relationship_count</th>\n",
       "      <th>months_inactive_12_mon</th>\n",
       "      <th>credit_limit</th>\n",
       "      <th>total_trans_amount</th>\n",
       "      <th>total_trans_count</th>\n",
       "      <th>avg_utilization_ratio</th>\n",
       "    </tr>\n",
       "  </thead>\n",
       "  <tbody>\n",
       "    <tr>\n",
       "      <th>count</th>\n",
       "      <td>1.012700e+04</td>\n",
       "      <td>10127.000000</td>\n",
       "      <td>10127.000000</td>\n",
       "      <td>10127.000000</td>\n",
       "      <td>10127.000000</td>\n",
       "      <td>10127.000000</td>\n",
       "      <td>10127.000000</td>\n",
       "      <td>10127.000000</td>\n",
       "      <td>10127.000000</td>\n",
       "      <td>10127.000000</td>\n",
       "      <td>10127.000000</td>\n",
       "    </tr>\n",
       "    <tr>\n",
       "      <th>mean</th>\n",
       "      <td>7.391776e+08</td>\n",
       "      <td>46.325960</td>\n",
       "      <td>2.346203</td>\n",
       "      <td>62078.206774</td>\n",
       "      <td>35.928409</td>\n",
       "      <td>3.812580</td>\n",
       "      <td>2.341167</td>\n",
       "      <td>8631.953698</td>\n",
       "      <td>4404.086304</td>\n",
       "      <td>64.858695</td>\n",
       "      <td>0.274894</td>\n",
       "    </tr>\n",
       "    <tr>\n",
       "      <th>std</th>\n",
       "      <td>3.690378e+07</td>\n",
       "      <td>8.016814</td>\n",
       "      <td>1.298908</td>\n",
       "      <td>39372.861291</td>\n",
       "      <td>7.986416</td>\n",
       "      <td>1.554408</td>\n",
       "      <td>1.010622</td>\n",
       "      <td>9088.776650</td>\n",
       "      <td>3397.129254</td>\n",
       "      <td>23.472570</td>\n",
       "      <td>0.275691</td>\n",
       "    </tr>\n",
       "    <tr>\n",
       "      <th>min</th>\n",
       "      <td>7.080821e+08</td>\n",
       "      <td>26.000000</td>\n",
       "      <td>0.000000</td>\n",
       "      <td>20000.000000</td>\n",
       "      <td>13.000000</td>\n",
       "      <td>1.000000</td>\n",
       "      <td>0.000000</td>\n",
       "      <td>1438.300000</td>\n",
       "      <td>510.000000</td>\n",
       "      <td>10.000000</td>\n",
       "      <td>0.000000</td>\n",
       "    </tr>\n",
       "    <tr>\n",
       "      <th>25%</th>\n",
       "      <td>7.130368e+08</td>\n",
       "      <td>41.000000</td>\n",
       "      <td>1.000000</td>\n",
       "      <td>32000.000000</td>\n",
       "      <td>31.000000</td>\n",
       "      <td>3.000000</td>\n",
       "      <td>2.000000</td>\n",
       "      <td>2555.000000</td>\n",
       "      <td>2155.500000</td>\n",
       "      <td>45.000000</td>\n",
       "      <td>0.023000</td>\n",
       "    </tr>\n",
       "    <tr>\n",
       "      <th>50%</th>\n",
       "      <td>7.179264e+08</td>\n",
       "      <td>46.000000</td>\n",
       "      <td>2.000000</td>\n",
       "      <td>50000.000000</td>\n",
       "      <td>36.000000</td>\n",
       "      <td>4.000000</td>\n",
       "      <td>2.000000</td>\n",
       "      <td>4549.000000</td>\n",
       "      <td>3899.000000</td>\n",
       "      <td>67.000000</td>\n",
       "      <td>0.176000</td>\n",
       "    </tr>\n",
       "    <tr>\n",
       "      <th>75%</th>\n",
       "      <td>7.731435e+08</td>\n",
       "      <td>52.000000</td>\n",
       "      <td>3.000000</td>\n",
       "      <td>80000.000000</td>\n",
       "      <td>40.000000</td>\n",
       "      <td>5.000000</td>\n",
       "      <td>3.000000</td>\n",
       "      <td>11067.500000</td>\n",
       "      <td>4741.000000</td>\n",
       "      <td>81.000000</td>\n",
       "      <td>0.503000</td>\n",
       "    </tr>\n",
       "    <tr>\n",
       "      <th>max</th>\n",
       "      <td>8.283431e+08</td>\n",
       "      <td>73.000000</td>\n",
       "      <td>5.000000</td>\n",
       "      <td>200000.000000</td>\n",
       "      <td>56.000000</td>\n",
       "      <td>6.000000</td>\n",
       "      <td>6.000000</td>\n",
       "      <td>34516.000000</td>\n",
       "      <td>18484.000000</td>\n",
       "      <td>139.000000</td>\n",
       "      <td>0.999000</td>\n",
       "    </tr>\n",
       "  </tbody>\n",
       "</table>\n",
       "</div>"
      ],
      "text/plain": [
       "        customer_id           age  dependent_count  estimated_income  \\\n",
       "count  1.012700e+04  10127.000000     10127.000000      10127.000000   \n",
       "mean   7.391776e+08     46.325960         2.346203      62078.206774   \n",
       "std    3.690378e+07      8.016814         1.298908      39372.861291   \n",
       "min    7.080821e+08     26.000000         0.000000      20000.000000   \n",
       "25%    7.130368e+08     41.000000         1.000000      32000.000000   \n",
       "50%    7.179264e+08     46.000000         2.000000      50000.000000   \n",
       "75%    7.731435e+08     52.000000         3.000000      80000.000000   \n",
       "max    8.283431e+08     73.000000         5.000000     200000.000000   \n",
       "\n",
       "       months_on_book  total_relationship_count  months_inactive_12_mon  \\\n",
       "count    10127.000000              10127.000000            10127.000000   \n",
       "mean        35.928409                  3.812580                2.341167   \n",
       "std          7.986416                  1.554408                1.010622   \n",
       "min         13.000000                  1.000000                0.000000   \n",
       "25%         31.000000                  3.000000                2.000000   \n",
       "50%         36.000000                  4.000000                2.000000   \n",
       "75%         40.000000                  5.000000                3.000000   \n",
       "max         56.000000                  6.000000                6.000000   \n",
       "\n",
       "       credit_limit  total_trans_amount  total_trans_count  \\\n",
       "count  10127.000000        10127.000000       10127.000000   \n",
       "mean    8631.953698         4404.086304          64.858695   \n",
       "std     9088.776650         3397.129254          23.472570   \n",
       "min     1438.300000          510.000000          10.000000   \n",
       "25%     2555.000000         2155.500000          45.000000   \n",
       "50%     4549.000000         3899.000000          67.000000   \n",
       "75%    11067.500000         4741.000000          81.000000   \n",
       "max    34516.000000        18484.000000         139.000000   \n",
       "\n",
       "       avg_utilization_ratio  \n",
       "count           10127.000000  \n",
       "mean                0.274894  \n",
       "std                 0.275691  \n",
       "min                 0.000000  \n",
       "25%                 0.023000  \n",
       "50%                 0.176000  \n",
       "75%                 0.503000  \n",
       "max                 0.999000  "
      ]
     },
     "execution_count": 131,
     "metadata": {},
     "output_type": "execute_result"
    }
   ],
   "source": [
    "# Exploring numerical columns\n",
    "df.describe()"
   ]
  },
  {
   "cell_type": "markdown",
   "metadata": {},
   "source": [
    "The summary statistics of the data tells us that;\n",
    "* The mininum age for credit card customers is 26, and the maximum is 73\n",
    "* The minimum estimated income is $20,000 and the maximum is $200,000\n",
    "* The customers in this dataset have being with this company for at least 13 months.\n",
    "* The credit limit of most customers is better $1,438 to $34,516, and most of the customers spend an average of $4,404\n",
    "* I can also see that the minimum amount of times a customer has used their credit card is 10 and the maximum is 139 times.\n",
    "\n",
    "The data looks good so far, and nothing stands out as suspicious.\n",
    "\n",
    "Next is to explore the columns with categorical data"
   ]
  },
  {
   "cell_type": "markdown",
   "metadata": {},
   "source": [
    "### 1.2: Exploring Categorical Columns"
   ]
  },
  {
   "cell_type": "code",
   "execution_count": 132,
   "metadata": {},
   "outputs": [
    {
     "data": {
      "text/html": [
       "<div>\n",
       "<style scoped>\n",
       "    .dataframe tbody tr th:only-of-type {\n",
       "        vertical-align: middle;\n",
       "    }\n",
       "\n",
       "    .dataframe tbody tr th {\n",
       "        vertical-align: top;\n",
       "    }\n",
       "\n",
       "    .dataframe thead th {\n",
       "        text-align: right;\n",
       "    }\n",
       "</style>\n",
       "<table border=\"1\" class=\"dataframe\">\n",
       "  <thead>\n",
       "    <tr style=\"text-align: right;\">\n",
       "      <th></th>\n",
       "      <th>gender</th>\n",
       "      <th>education_level</th>\n",
       "      <th>marital_status</th>\n",
       "    </tr>\n",
       "  </thead>\n",
       "  <tbody>\n",
       "    <tr>\n",
       "      <th>count</th>\n",
       "      <td>10127</td>\n",
       "      <td>10127</td>\n",
       "      <td>10127</td>\n",
       "    </tr>\n",
       "    <tr>\n",
       "      <th>unique</th>\n",
       "      <td>2</td>\n",
       "      <td>6</td>\n",
       "      <td>4</td>\n",
       "    </tr>\n",
       "    <tr>\n",
       "      <th>top</th>\n",
       "      <td>F</td>\n",
       "      <td>Graduate</td>\n",
       "      <td>Married</td>\n",
       "    </tr>\n",
       "    <tr>\n",
       "      <th>freq</th>\n",
       "      <td>5358</td>\n",
       "      <td>3685</td>\n",
       "      <td>4687</td>\n",
       "    </tr>\n",
       "  </tbody>\n",
       "</table>\n",
       "</div>"
      ],
      "text/plain": [
       "       gender education_level marital_status\n",
       "count   10127           10127          10127\n",
       "unique      2               6              4\n",
       "top         F        Graduate        Married\n",
       "freq     5358            3685           4687"
      ]
     },
     "execution_count": 132,
     "metadata": {},
     "output_type": "execute_result"
    }
   ],
   "source": [
    "# Exploring categorical columns\n",
    "df.select_dtypes(include='O').describe()"
   ]
  },
  {
   "cell_type": "code",
   "execution_count": 133,
   "metadata": {},
   "outputs": [
    {
     "data": {
      "text/plain": [
       "F    5358\n",
       "M    4769\n",
       "Name: gender, dtype: int64"
      ]
     },
     "execution_count": 133,
     "metadata": {},
     "output_type": "execute_result"
    }
   ],
   "source": [
    "df.gender.value_counts()"
   ]
  },
  {
   "cell_type": "code",
   "execution_count": 134,
   "metadata": {},
   "outputs": [
    {
     "data": {
      "text/plain": [
       "Married     4687\n",
       "Single      3943\n",
       "Unknown      749\n",
       "Divorced     748\n",
       "Name: marital_status, dtype: int64"
      ]
     },
     "execution_count": 134,
     "metadata": {},
     "output_type": "execute_result"
    }
   ],
   "source": [
    "df.marital_status.value_counts()"
   ]
  },
  {
   "cell_type": "code",
   "execution_count": 135,
   "metadata": {},
   "outputs": [
    {
     "data": {
      "text/plain": [
       "Graduate         3685\n",
       "High School      2351\n",
       "Uneducated       1755\n",
       "College          1192\n",
       "Post-Graduate     616\n",
       "Doctorate         528\n",
       "Name: education_level, dtype: int64"
      ]
     },
     "execution_count": 135,
     "metadata": {},
     "output_type": "execute_result"
    }
   ],
   "source": [
    "df.education_level.value_counts()"
   ]
  },
  {
   "cell_type": "markdown",
   "metadata": {},
   "source": [
    "Majority of the customers are female, married and passed through graduate school"
   ]
  },
  {
   "cell_type": "markdown",
   "metadata": {},
   "source": [
    "### 1.3: Checking for correlations between columns"
   ]
  },
  {
   "cell_type": "code",
   "execution_count": 136,
   "metadata": {},
   "outputs": [
    {
     "data": {
      "image/png": "[encoded data removed]",
      "text/plain": [
       "<Figure size 864x576 with 2 Axes>"
      ]
     },
     "metadata": {
      "needs_background": "light"
     },
     "output_type": "display_data"
    }
   ],
   "source": [
    "fig, ax = plt.subplots(figsize=(12,8))\n",
    "\n",
    "sns.heatmap(round(df.drop('customer_id', axis=1).corr(), 2), cmap='Blues', annot=True, ax=ax)\n",
    "\n",
    "plt.show()"
   ]
  },
  {
   "cell_type": "markdown",
   "metadata": {},
   "source": [
    "Only a few columns have correlations that stand out:\n",
    "* `age` is strongly correlated with `months_on_book`, which makes sense if you think about it. This means that older customers have been with the company for longer. It also means that the company attracts young customers and provide them with quality service for many years.\n",
    "\n",
    "* `credit_limit` has a positive correlation with `estimated_income`. This also makes sense because the more money you earn, the higher your credit limit.\n",
    "* `total_trans_count` has a very high positive corrleation with `total_amount_amount`. This can be easily explained as the higher the number of times you use your credit card, the higher the amount of money you spend. "
   ]
  },
  {
   "cell_type": "markdown",
   "metadata": {},
   "source": [
    "### 1.4: Visualizing Distributions of Data in Numerical Columns"
   ]
  },
  {
   "cell_type": "code",
   "execution_count": 137,
   "metadata": {},
   "outputs": [
    {
     "data": {
      "image/png": "[encoded data removed]",
      "text/plain": [
       "<Figure size 1584x1008 with 12 Axes>"
      ]
     },
     "metadata": {
      "needs_background": "light"
     },
     "output_type": "display_data"
    }
   ],
   "source": [
    "fig, ax = plt.subplots(figsize=(22, 14))\n",
    "\n",
    "# Plotting all numerical columns, except the customer's id column\n",
    "df.drop('customer_id', axis=1).hist(ax=ax)\n",
    "\n",
    "#plt.tight_layout()\n",
    "plt.show()"
   ]
  },
  {
   "cell_type": "markdown",
   "metadata": {},
   "source": [
    "## Part 2: Feature Engineering"
   ]
  },
  {
   "cell_type": "markdown",
   "metadata": {},
   "source": [
    "The dataset contain 3 categorical columns, as observed from the data exploration. These columns will need to be encoded to numerical values. \n",
    "\n",
    "The categorical variables are both ordinal and nominal, so they will need to be encoded using different strategies.\n",
    "\n",
    "The ordinal categorical variable is the `education_level` column, because there is an intrinsic order in the categories:\n",
    "\n",
    "`gender` and `marital_status` are both nominal categorical variables. "
   ]
  },
  {
   "cell_type": "markdown",
   "metadata": {},
   "source": [
    "### 2.1: Encoding Categorical data"
   ]
  },
  {
   "cell_type": "code",
   "execution_count": 138,
   "metadata": {},
   "outputs": [
    {
     "name": "stdout",
     "output_type": "stream",
     "text": [
      "Count of Male(1) and Female(0):\n",
      "0    5358\n",
      "1    4769\n",
      "Name: gender, dtype: int64\n",
      "\n",
      "Count of each education level:\n",
      "3    3685\n",
      "1    2351\n",
      "0    1755\n",
      "2    1192\n",
      "4     616\n",
      "5     528\n",
      "Name: education_level, dtype: int64\n"
     ]
    }
   ],
   "source": [
    "# Encoding the 'gender' column\n",
    "new_df = df.copy()\n",
    "new_df['gender'] = new_df['gender'].apply(lambda x: 1 if x == 'M' else 0)\n",
    "print(f\"Count of Male(1) and Female(0):\\n{new_df.gender.value_counts()}\\n\")\n",
    "\n",
    "# Encoding the 'education_level' column\n",
    "new_df['education_level'].replace(to_replace={'Uneducated': 0, 'High School': 1, 'College':2,\n",
    "                                    'Graduate': 3, 'Post-Graduate': 4, 'Doctorate':5}, inplace=True)\n",
    "\n",
    "print(f\"Count of each education level:\\n{new_df['education_level'].value_counts()}\")\n"
   ]
  },
  {
   "cell_type": "code",
   "execution_count": 139,
   "metadata": {},
   "outputs": [
    {
     "data": {
      "text/html": [
       "<div>\n",
       "<style scoped>\n",
       "    .dataframe tbody tr th:only-of-type {\n",
       "        vertical-align: middle;\n",
       "    }\n",
       "\n",
       "    .dataframe tbody tr th {\n",
       "        vertical-align: top;\n",
       "    }\n",
       "\n",
       "    .dataframe thead th {\n",
       "        text-align: right;\n",
       "    }\n",
       "</style>\n",
       "<table border=\"1\" class=\"dataframe\">\n",
       "  <thead>\n",
       "    <tr style=\"text-align: right;\">\n",
       "      <th></th>\n",
       "      <th>customer_id</th>\n",
       "      <th>age</th>\n",
       "      <th>gender</th>\n",
       "      <th>dependent_count</th>\n",
       "      <th>education_level</th>\n",
       "      <th>estimated_income</th>\n",
       "      <th>months_on_book</th>\n",
       "      <th>total_relationship_count</th>\n",
       "      <th>months_inactive_12_mon</th>\n",
       "      <th>credit_limit</th>\n",
       "      <th>total_trans_amount</th>\n",
       "      <th>total_trans_count</th>\n",
       "      <th>avg_utilization_ratio</th>\n",
       "      <th>marital_status_Married</th>\n",
       "      <th>marital_status_Single</th>\n",
       "      <th>marital_status_Unknown</th>\n",
       "    </tr>\n",
       "  </thead>\n",
       "  <tbody>\n",
       "    <tr>\n",
       "      <th>0</th>\n",
       "      <td>768805383</td>\n",
       "      <td>45</td>\n",
       "      <td>1</td>\n",
       "      <td>3</td>\n",
       "      <td>1</td>\n",
       "      <td>69000</td>\n",
       "      <td>39</td>\n",
       "      <td>5</td>\n",
       "      <td>1</td>\n",
       "      <td>12691.0</td>\n",
       "      <td>1144</td>\n",
       "      <td>42</td>\n",
       "      <td>0.061</td>\n",
       "      <td>1</td>\n",
       "      <td>0</td>\n",
       "      <td>0</td>\n",
       "    </tr>\n",
       "    <tr>\n",
       "      <th>1</th>\n",
       "      <td>818770008</td>\n",
       "      <td>49</td>\n",
       "      <td>0</td>\n",
       "      <td>5</td>\n",
       "      <td>3</td>\n",
       "      <td>24000</td>\n",
       "      <td>44</td>\n",
       "      <td>6</td>\n",
       "      <td>1</td>\n",
       "      <td>8256.0</td>\n",
       "      <td>1291</td>\n",
       "      <td>33</td>\n",
       "      <td>0.105</td>\n",
       "      <td>0</td>\n",
       "      <td>1</td>\n",
       "      <td>0</td>\n",
       "    </tr>\n",
       "    <tr>\n",
       "      <th>2</th>\n",
       "      <td>713982108</td>\n",
       "      <td>51</td>\n",
       "      <td>1</td>\n",
       "      <td>3</td>\n",
       "      <td>3</td>\n",
       "      <td>93000</td>\n",
       "      <td>36</td>\n",
       "      <td>4</td>\n",
       "      <td>1</td>\n",
       "      <td>3418.0</td>\n",
       "      <td>1887</td>\n",
       "      <td>20</td>\n",
       "      <td>0.000</td>\n",
       "      <td>1</td>\n",
       "      <td>0</td>\n",
       "      <td>0</td>\n",
       "    </tr>\n",
       "    <tr>\n",
       "      <th>3</th>\n",
       "      <td>769911858</td>\n",
       "      <td>40</td>\n",
       "      <td>0</td>\n",
       "      <td>4</td>\n",
       "      <td>1</td>\n",
       "      <td>37000</td>\n",
       "      <td>34</td>\n",
       "      <td>3</td>\n",
       "      <td>4</td>\n",
       "      <td>3313.0</td>\n",
       "      <td>1171</td>\n",
       "      <td>20</td>\n",
       "      <td>0.760</td>\n",
       "      <td>0</td>\n",
       "      <td>0</td>\n",
       "      <td>1</td>\n",
       "    </tr>\n",
       "    <tr>\n",
       "      <th>4</th>\n",
       "      <td>709106358</td>\n",
       "      <td>40</td>\n",
       "      <td>1</td>\n",
       "      <td>3</td>\n",
       "      <td>0</td>\n",
       "      <td>65000</td>\n",
       "      <td>21</td>\n",
       "      <td>5</td>\n",
       "      <td>1</td>\n",
       "      <td>4716.0</td>\n",
       "      <td>816</td>\n",
       "      <td>28</td>\n",
       "      <td>0.000</td>\n",
       "      <td>1</td>\n",
       "      <td>0</td>\n",
       "      <td>0</td>\n",
       "    </tr>\n",
       "  </tbody>\n",
       "</table>\n",
       "</div>"
      ],
      "text/plain": [
       "   customer_id  age  gender  dependent_count  education_level  \\\n",
       "0    768805383   45       1                3                1   \n",
       "1    818770008   49       0                5                3   \n",
       "2    713982108   51       1                3                3   \n",
       "3    769911858   40       0                4                1   \n",
       "4    709106358   40       1                3                0   \n",
       "\n",
       "   estimated_income  months_on_book  total_relationship_count  \\\n",
       "0             69000              39                         5   \n",
       "1             24000              44                         6   \n",
       "2             93000              36                         4   \n",
       "3             37000              34                         3   \n",
       "4             65000              21                         5   \n",
       "\n",
       "   months_inactive_12_mon  credit_limit  total_trans_amount  \\\n",
       "0                       1       12691.0                1144   \n",
       "1                       1        8256.0                1291   \n",
       "2                       1        3418.0                1887   \n",
       "3                       4        3313.0                1171   \n",
       "4                       1        4716.0                 816   \n",
       "\n",
       "   total_trans_count  avg_utilization_ratio  marital_status_Married  \\\n",
       "0                 42                  0.061                       1   \n",
       "1                 33                  0.105                       0   \n",
       "2                 20                  0.000                       1   \n",
       "3                 20                  0.760                       0   \n",
       "4                 28                  0.000                       1   \n",
       "\n",
       "   marital_status_Single  marital_status_Unknown  \n",
       "0                      0                       0  \n",
       "1                      1                       0  \n",
       "2                      0                       0  \n",
       "3                      0                       1  \n",
       "4                      0                       0  "
      ]
     },
     "execution_count": 139,
     "metadata": {},
     "output_type": "execute_result"
    }
   ],
   "source": [
    "# Encoding values for the 'marital_status' column\n",
    "dummies = pd.get_dummies(new_df[['marital_status']], dtype=int, drop_first=True)\n",
    "\n",
    "new_df = pd.concat([new_df, dummies], axis=1)\n",
    "\n",
    "new_df.drop('marital_status', axis=1, inplace=True)\n",
    "\n",
    "new_df.head()"
   ]
  },
  {
   "cell_type": "markdown",
   "metadata": {},
   "source": [
    "### 2.2: Standardizing the data"
   ]
  },
  {
   "cell_type": "markdown",
   "metadata": {},
   "source": [
    "Since K-Means is a distance-based algorithm, all the data need to be on the same scale to prevent some features from having more weight than others. Scaling the data is a way to put the datapoints in each column on the same scale. \n",
    "\n",
    "The StandardScaler function from Sklearn scales the data, so that each column will have a mean on 0 and standard deviation of 1"
   ]
  },
  {
   "cell_type": "code",
   "execution_count": 140,
   "metadata": {},
   "outputs": [],
   "source": [
    "X = new_df.drop('customer_id', axis=1)\n",
    "\n",
    "scaler = StandardScaler()\n",
    "scaler.fit(X)\n",
    "\n",
    "X_scaled = scaler.transform(X)"
   ]
  },
  {
   "cell_type": "code",
   "execution_count": 184,
   "metadata": {},
   "outputs": [
    {
     "data": {
      "text/html": [
       "<div>\n",
       "<style scoped>\n",
       "    .dataframe tbody tr th:only-of-type {\n",
       "        vertical-align: middle;\n",
       "    }\n",
       "\n",
       "    .dataframe tbody tr th {\n",
       "        vertical-align: top;\n",
       "    }\n",
       "\n",
       "    .dataframe thead th {\n",
       "        text-align: right;\n",
       "    }\n",
       "</style>\n",
       "<table border=\"1\" class=\"dataframe\">\n",
       "  <thead>\n",
       "    <tr style=\"text-align: right;\">\n",
       "      <th></th>\n",
       "      <th>0</th>\n",
       "      <th>1</th>\n",
       "      <th>2</th>\n",
       "      <th>3</th>\n",
       "      <th>4</th>\n",
       "      <th>5</th>\n",
       "      <th>6</th>\n",
       "      <th>7</th>\n",
       "      <th>8</th>\n",
       "      <th>9</th>\n",
       "      <th>10</th>\n",
       "      <th>11</th>\n",
       "      <th>12</th>\n",
       "      <th>13</th>\n",
       "      <th>14</th>\n",
       "    </tr>\n",
       "  </thead>\n",
       "  <tbody>\n",
       "    <tr>\n",
       "      <th>0</th>\n",
       "      <td>-0.165406</td>\n",
       "      <td>1.059956</td>\n",
       "      <td>0.503368</td>\n",
       "      <td>-0.752211</td>\n",
       "      <td>0.175810</td>\n",
       "      <td>0.384621</td>\n",
       "      <td>0.763943</td>\n",
       "      <td>-1.327136</td>\n",
       "      <td>0.446622</td>\n",
       "      <td>-0.959707</td>\n",
       "      <td>-0.973895</td>\n",
       "      <td>-0.775882</td>\n",
       "      <td>1.077338</td>\n",
       "      <td>-0.798507</td>\n",
       "      <td>-0.282609</td>\n",
       "    </tr>\n",
       "    <tr>\n",
       "      <th>1</th>\n",
       "      <td>0.333570</td>\n",
       "      <td>-0.943436</td>\n",
       "      <td>2.043199</td>\n",
       "      <td>0.662787</td>\n",
       "      <td>-0.967166</td>\n",
       "      <td>1.010715</td>\n",
       "      <td>1.407306</td>\n",
       "      <td>-1.327136</td>\n",
       "      <td>-0.041367</td>\n",
       "      <td>-0.916433</td>\n",
       "      <td>-1.357340</td>\n",
       "      <td>-0.616276</td>\n",
       "      <td>-0.928214</td>\n",
       "      <td>1.252337</td>\n",
       "      <td>-0.282609</td>\n",
       "    </tr>\n",
       "    <tr>\n",
       "      <th>2</th>\n",
       "      <td>0.583058</td>\n",
       "      <td>1.059956</td>\n",
       "      <td>0.503368</td>\n",
       "      <td>0.662787</td>\n",
       "      <td>0.785397</td>\n",
       "      <td>0.008965</td>\n",
       "      <td>0.120579</td>\n",
       "      <td>-1.327136</td>\n",
       "      <td>-0.573698</td>\n",
       "      <td>-0.740982</td>\n",
       "      <td>-1.911206</td>\n",
       "      <td>-0.997155</td>\n",
       "      <td>1.077338</td>\n",
       "      <td>-0.798507</td>\n",
       "      <td>-0.282609</td>\n",
       "    </tr>\n",
       "    <tr>\n",
       "      <th>3</th>\n",
       "      <td>-0.789126</td>\n",
       "      <td>-0.943436</td>\n",
       "      <td>1.273283</td>\n",
       "      <td>-0.752211</td>\n",
       "      <td>-0.636973</td>\n",
       "      <td>-0.241473</td>\n",
       "      <td>-0.522785</td>\n",
       "      <td>1.641478</td>\n",
       "      <td>-0.585251</td>\n",
       "      <td>-0.951758</td>\n",
       "      <td>-1.911206</td>\n",
       "      <td>1.759686</td>\n",
       "      <td>-0.928214</td>\n",
       "      <td>-0.798507</td>\n",
       "      <td>3.538459</td>\n",
       "    </tr>\n",
       "    <tr>\n",
       "      <th>4</th>\n",
       "      <td>-0.789126</td>\n",
       "      <td>1.059956</td>\n",
       "      <td>0.503368</td>\n",
       "      <td>-1.459710</td>\n",
       "      <td>0.074212</td>\n",
       "      <td>-1.869317</td>\n",
       "      <td>0.763943</td>\n",
       "      <td>-1.327136</td>\n",
       "      <td>-0.430877</td>\n",
       "      <td>-1.056263</td>\n",
       "      <td>-1.570365</td>\n",
       "      <td>-0.997155</td>\n",
       "      <td>1.077338</td>\n",
       "      <td>-0.798507</td>\n",
       "      <td>-0.282609</td>\n",
       "    </tr>\n",
       "  </tbody>\n",
       "</table>\n",
       "</div>"
      ],
      "text/plain": [
       "         0         1         2         3         4         5         6   \\\n",
       "0 -0.165406  1.059956  0.503368 -0.752211  0.175810  0.384621  0.763943   \n",
       "1  0.333570 -0.943436  2.043199  0.662787 -0.967166  1.010715  1.407306   \n",
       "2  0.583058  1.059956  0.503368  0.662787  0.785397  0.008965  0.120579   \n",
       "3 -0.789126 -0.943436  1.273283 -0.752211 -0.636973 -0.241473 -0.522785   \n",
       "4 -0.789126  1.059956  0.503368 -1.459710  0.074212 -1.869317  0.763943   \n",
       "\n",
       "         7         8         9         10        11        12        13  \\\n",
       "0 -1.327136  0.446622 -0.959707 -0.973895 -0.775882  1.077338 -0.798507   \n",
       "1 -1.327136 -0.041367 -0.916433 -1.357340 -0.616276 -0.928214  1.252337   \n",
       "2 -1.327136 -0.573698 -0.740982 -1.911206 -0.997155  1.077338 -0.798507   \n",
       "3  1.641478 -0.585251 -0.951758 -1.911206  1.759686 -0.928214 -0.798507   \n",
       "4 -1.327136 -0.430877 -1.056263 -1.570365 -0.997155  1.077338 -0.798507   \n",
       "\n",
       "         14  \n",
       "0 -0.282609  \n",
       "1 -0.282609  \n",
       "2 -0.282609  \n",
       "3  3.538459  \n",
       "4 -0.282609  "
      ]
     },
     "execution_count": 184,
     "metadata": {},
     "output_type": "execute_result"
    }
   ],
   "source": [
    "X = pd.DataFrame(X_scaled)\n",
    "\n",
    "X.head()"
   ]
  },
  {
   "cell_type": "markdown",
   "metadata": {},
   "source": [
    "## Part 3: Building a K-Means Clustering Model"
   ]
  },
  {
   "cell_type": "markdown",
   "metadata": {},
   "source": [
    "### 3.1: Selecting the best number for K"
   ]
  },
  {
   "cell_type": "markdown",
   "metadata": {},
   "source": [
    "The next step is to decide the best number of clusters to use in the segmentation according to the inertia metric, using the Elbow method. I'll also use the Silhoutte method and DB-Index to verify the best option for K."
   ]
  },
  {
   "cell_type": "markdown",
   "metadata": {},
   "source": [
    "### 3.1.1: Using the Elbow Method"
   ]
  },
  {
   "cell_type": "code",
   "execution_count": 143,
   "metadata": {},
   "outputs": [
    {
     "data": {
      "image/png": "[encoded data removed]",
      "text/plain": [
       "<Figure size 576x432 with 1 Axes>"
      ]
     },
     "metadata": {
      "needs_background": "light"
     },
     "output_type": "display_data"
    }
   ],
   "source": [
    "inertias = []\n",
    "\n",
    "for k in range(1, 11):\n",
    "    model = KMeans(n_clusters=k)\n",
    "    y = model.fit_predict(X)\n",
    "    inertias.append(model.inertia_)\n",
    "\n",
    "plt.figure(figsize=(8, 6))\n",
    "plt.plot(range(1, 11), inertias, marker='o')\n",
    "plt.xticks(ticks=range(1, 11), labels=range(1, 11))\n",
    "plt.title('Inertia vs Number of Clusters')\n",
    "\n",
    "plt.tight_layout()\n",
    "plt.show()"
   ]
  },
  {
   "cell_type": "markdown",
   "metadata": {},
   "source": [
    "From the plot above (for the elbow method), it's not very clear which number is best for K. Although, there is sharp bend at number 5. "
   ]
  },
  {
   "cell_type": "markdown",
   "metadata": {},
   "source": [
    "### 3.1.2: Using the Silhouette Method"
   ]
  },
  {
   "cell_type": "markdown",
   "metadata": {},
   "source": [
    "The silhouette method is a technique used to determine the optimal number of clusters for an unsupervised learning algorithm. \n",
    "\n",
    "When using this method, the model determines the average silhouette for each value of k, and the value of k which has the maximum silhouette value is considered the optimal number of clusters for the clustering algorithm."
   ]
  },
  {
   "cell_type": "code",
   "execution_count": 147,
   "metadata": {},
   "outputs": [
    {
     "data": {
      "image/png": "[encoded data removed]",
      "text/plain": [
       "<Figure size 576x432 with 1 Axes>"
      ]
     },
     "metadata": {
      "needs_background": "light"
     },
     "output_type": "display_data"
    }
   ],
   "source": [
    "k = [2, 3, 4, 5, 6, 7, 8]\n",
    "score=[]\n",
    "\n",
    "for n_cluster in k:\n",
    "    kmeans = KMeans(n_clusters=n_cluster).fit(X)\n",
    "    score.append(silhouette_score(X,kmeans.labels_))\n",
    "\n",
    "plt.figure(figsize=(8, 6))\n",
    "plt.plot(k, score, 'o-')\n",
    "plt.xlabel(\"Value for k\")\n",
    "plt.ylabel(\"Silhouette score\")\n",
    "plt.title('Silhouette Method')\n",
    "plt.show()"
   ]
  },
  {
   "cell_type": "markdown",
   "metadata": {},
   "source": [
    "5 has the maximum silhouette value, this means that 5 is the optimal number of cluster for this dataset."
   ]
  },
  {
   "cell_type": "markdown",
   "metadata": {},
   "source": [
    "### 3.2: Training the model"
   ]
  },
  {
   "cell_type": "code",
   "execution_count": 148,
   "metadata": {},
   "outputs": [
    {
     "data": {
      "text/plain": [
       "array([2, 1, 2, ..., 3, 0, 3])"
      ]
     },
     "execution_count": 148,
     "metadata": {},
     "output_type": "execute_result"
    }
   ],
   "source": [
    "# Training the model with K = 5\n",
    "model = KMeans(n_clusters=5, max_iter=500)\n",
    "y = model.fit_predict(X_scaled)\n",
    "\n",
    "y"
   ]
  },
  {
   "cell_type": "code",
   "execution_count": 149,
   "metadata": {},
   "outputs": [
    {
     "data": {
      "text/html": [
       "<div>\n",
       "<style scoped>\n",
       "    .dataframe tbody tr th:only-of-type {\n",
       "        vertical-align: middle;\n",
       "    }\n",
       "\n",
       "    .dataframe tbody tr th {\n",
       "        vertical-align: top;\n",
       "    }\n",
       "\n",
       "    .dataframe thead th {\n",
       "        text-align: right;\n",
       "    }\n",
       "</style>\n",
       "<table border=\"1\" class=\"dataframe\">\n",
       "  <thead>\n",
       "    <tr style=\"text-align: right;\">\n",
       "      <th></th>\n",
       "      <th>customer_id</th>\n",
       "      <th>age</th>\n",
       "      <th>gender</th>\n",
       "      <th>dependent_count</th>\n",
       "      <th>education_level</th>\n",
       "      <th>marital_status</th>\n",
       "      <th>estimated_income</th>\n",
       "      <th>months_on_book</th>\n",
       "      <th>total_relationship_count</th>\n",
       "      <th>months_inactive_12_mon</th>\n",
       "      <th>credit_limit</th>\n",
       "      <th>total_trans_amount</th>\n",
       "      <th>total_trans_count</th>\n",
       "      <th>avg_utilization_ratio</th>\n",
       "      <th>Cluster</th>\n",
       "    </tr>\n",
       "  </thead>\n",
       "  <tbody>\n",
       "    <tr>\n",
       "      <th>0</th>\n",
       "      <td>768805383</td>\n",
       "      <td>45</td>\n",
       "      <td>M</td>\n",
       "      <td>3</td>\n",
       "      <td>High School</td>\n",
       "      <td>Married</td>\n",
       "      <td>69000</td>\n",
       "      <td>39</td>\n",
       "      <td>5</td>\n",
       "      <td>1</td>\n",
       "      <td>12691.0</td>\n",
       "      <td>1144</td>\n",
       "      <td>42</td>\n",
       "      <td>0.061</td>\n",
       "      <td>3</td>\n",
       "    </tr>\n",
       "    <tr>\n",
       "      <th>1</th>\n",
       "      <td>818770008</td>\n",
       "      <td>49</td>\n",
       "      <td>F</td>\n",
       "      <td>5</td>\n",
       "      <td>Graduate</td>\n",
       "      <td>Single</td>\n",
       "      <td>24000</td>\n",
       "      <td>44</td>\n",
       "      <td>6</td>\n",
       "      <td>1</td>\n",
       "      <td>8256.0</td>\n",
       "      <td>1291</td>\n",
       "      <td>33</td>\n",
       "      <td>0.105</td>\n",
       "      <td>2</td>\n",
       "    </tr>\n",
       "    <tr>\n",
       "      <th>2</th>\n",
       "      <td>713982108</td>\n",
       "      <td>51</td>\n",
       "      <td>M</td>\n",
       "      <td>3</td>\n",
       "      <td>Graduate</td>\n",
       "      <td>Married</td>\n",
       "      <td>93000</td>\n",
       "      <td>36</td>\n",
       "      <td>4</td>\n",
       "      <td>1</td>\n",
       "      <td>3418.0</td>\n",
       "      <td>1887</td>\n",
       "      <td>20</td>\n",
       "      <td>0.000</td>\n",
       "      <td>3</td>\n",
       "    </tr>\n",
       "    <tr>\n",
       "      <th>3</th>\n",
       "      <td>769911858</td>\n",
       "      <td>40</td>\n",
       "      <td>F</td>\n",
       "      <td>4</td>\n",
       "      <td>High School</td>\n",
       "      <td>Unknown</td>\n",
       "      <td>37000</td>\n",
       "      <td>34</td>\n",
       "      <td>3</td>\n",
       "      <td>4</td>\n",
       "      <td>3313.0</td>\n",
       "      <td>1171</td>\n",
       "      <td>20</td>\n",
       "      <td>0.760</td>\n",
       "      <td>1</td>\n",
       "    </tr>\n",
       "    <tr>\n",
       "      <th>4</th>\n",
       "      <td>709106358</td>\n",
       "      <td>40</td>\n",
       "      <td>M</td>\n",
       "      <td>3</td>\n",
       "      <td>Uneducated</td>\n",
       "      <td>Married</td>\n",
       "      <td>65000</td>\n",
       "      <td>21</td>\n",
       "      <td>5</td>\n",
       "      <td>1</td>\n",
       "      <td>4716.0</td>\n",
       "      <td>816</td>\n",
       "      <td>28</td>\n",
       "      <td>0.000</td>\n",
       "      <td>4</td>\n",
       "    </tr>\n",
       "  </tbody>\n",
       "</table>\n",
       "</div>"
      ],
      "text/plain": [
       "   customer_id  age gender  dependent_count education_level marital_status  \\\n",
       "0    768805383   45      M                3     High School        Married   \n",
       "1    818770008   49      F                5        Graduate         Single   \n",
       "2    713982108   51      M                3        Graduate        Married   \n",
       "3    769911858   40      F                4     High School        Unknown   \n",
       "4    709106358   40      M                3      Uneducated        Married   \n",
       "\n",
       "   estimated_income  months_on_book  total_relationship_count  \\\n",
       "0             69000              39                         5   \n",
       "1             24000              44                         6   \n",
       "2             93000              36                         4   \n",
       "3             37000              34                         3   \n",
       "4             65000              21                         5   \n",
       "\n",
       "   months_inactive_12_mon  credit_limit  total_trans_amount  \\\n",
       "0                       1       12691.0                1144   \n",
       "1                       1        8256.0                1291   \n",
       "2                       1        3418.0                1887   \n",
       "3                       4        3313.0                1171   \n",
       "4                       1        4716.0                 816   \n",
       "\n",
       "   total_trans_count  avg_utilization_ratio  Cluster  \n",
       "0                 42                  0.061        3  \n",
       "1                 33                  0.105        2  \n",
       "2                 20                  0.000        3  \n",
       "3                 20                  0.760        1  \n",
       "4                 28                  0.000        4  "
      ]
     },
     "execution_count": 149,
     "metadata": {},
     "output_type": "execute_result"
    }
   ],
   "source": [
    "# Assigning clusters to the data\n",
    "df['Cluster'] = y + 1\n",
    "\n",
    "df.head()"
   ]
  },
  {
   "cell_type": "markdown",
   "metadata": {},
   "source": [
    "## Part 4: Analyzing & Interpreting Results"
   ]
  },
  {
   "cell_type": "markdown",
   "metadata": {},
   "source": [
    "\n",
    "All that's left now is to analyze the results. The next step is to see how the variables used in the clustering differ from cluster to cluster in order better explain what each cluster represents."
   ]
  },
  {
   "cell_type": "code",
   "execution_count": 151,
   "metadata": {},
   "outputs": [
    {
     "data": {
      "text/plain": [
       "4    3451\n",
       "2    2969\n",
       "3    2005\n",
       "5     963\n",
       "1     739\n",
       "Name: Cluster, dtype: int64"
      ]
     },
     "execution_count": 151,
     "metadata": {},
     "output_type": "execute_result"
    }
   ],
   "source": [
    "df['Cluster'].value_counts()"
   ]
  },
  {
   "cell_type": "code",
   "execution_count": 182,
   "metadata": {},
   "outputs": [
    {
     "data": {
      "text/html": [
       "<div>\n",
       "<style scoped>\n",
       "    .dataframe tbody tr th:only-of-type {\n",
       "        vertical-align: middle;\n",
       "    }\n",
       "\n",
       "    .dataframe tbody tr th {\n",
       "        vertical-align: top;\n",
       "    }\n",
       "\n",
       "    .dataframe thead th {\n",
       "        text-align: right;\n",
       "    }\n",
       "</style>\n",
       "<table border=\"1\" class=\"dataframe\">\n",
       "  <thead>\n",
       "    <tr style=\"text-align: right;\">\n",
       "      <th></th>\n",
       "      <th>age</th>\n",
       "      <th>estimated_income</th>\n",
       "      <th>dependent_count</th>\n",
       "      <th>months_on_book</th>\n",
       "      <th>credit_limit</th>\n",
       "      <th>total_trans_amount</th>\n",
       "      <th>total_trans_count</th>\n",
       "      <th>avg_utilization_ratio</th>\n",
       "    </tr>\n",
       "    <tr>\n",
       "      <th>Cluster</th>\n",
       "      <th></th>\n",
       "      <th></th>\n",
       "      <th></th>\n",
       "      <th></th>\n",
       "      <th></th>\n",
       "      <th></th>\n",
       "      <th></th>\n",
       "      <th></th>\n",
       "    </tr>\n",
       "  </thead>\n",
       "  <tbody>\n",
       "    <tr>\n",
       "      <th>1</th>\n",
       "      <td>45.602165</td>\n",
       "      <td>61577.807848</td>\n",
       "      <td>2.549391</td>\n",
       "      <td>35.217862</td>\n",
       "      <td>9284.996076</td>\n",
       "      <td>4576.435724</td>\n",
       "      <td>66.462788</td>\n",
       "      <td>0.258486</td>\n",
       "    </tr>\n",
       "    <tr>\n",
       "      <th>2</th>\n",
       "      <td>45.800269</td>\n",
       "      <td>46474.570562</td>\n",
       "      <td>2.212866</td>\n",
       "      <td>35.497137</td>\n",
       "      <td>4957.055035</td>\n",
       "      <td>3742.910408</td>\n",
       "      <td>65.305490</td>\n",
       "      <td>0.322616</td>\n",
       "    </tr>\n",
       "    <tr>\n",
       "      <th>3</th>\n",
       "      <td>46.834913</td>\n",
       "      <td>111180.049875</td>\n",
       "      <td>2.528678</td>\n",
       "      <td>36.293766</td>\n",
       "      <td>18820.138653</td>\n",
       "      <td>3157.547132</td>\n",
       "      <td>55.685287</td>\n",
       "      <td>0.082090</td>\n",
       "    </tr>\n",
       "    <tr>\n",
       "      <th>4</th>\n",
       "      <td>46.914518</td>\n",
       "      <td>45040.278180</td>\n",
       "      <td>2.314402</td>\n",
       "      <td>36.452622</td>\n",
       "      <td>4056.450188</td>\n",
       "      <td>3273.505071</td>\n",
       "      <td>58.149812</td>\n",
       "      <td>0.379970</td>\n",
       "    </tr>\n",
       "    <tr>\n",
       "      <th>5</th>\n",
       "      <td>45.333333</td>\n",
       "      <td>69394.600208</td>\n",
       "      <td>2.335410</td>\n",
       "      <td>35.164071</td>\n",
       "      <td>14645.377985</td>\n",
       "      <td>12957.161994</td>\n",
       "      <td>105.391485</td>\n",
       "      <td>0.165227</td>\n",
       "    </tr>\n",
       "  </tbody>\n",
       "</table>\n",
       "</div>"
      ],
      "text/plain": [
       "               age  estimated_income  dependent_count  months_on_book  \\\n",
       "Cluster                                                                 \n",
       "1        45.602165      61577.807848         2.549391       35.217862   \n",
       "2        45.800269      46474.570562         2.212866       35.497137   \n",
       "3        46.834913     111180.049875         2.528678       36.293766   \n",
       "4        46.914518      45040.278180         2.314402       36.452622   \n",
       "5        45.333333      69394.600208         2.335410       35.164071   \n",
       "\n",
       "         credit_limit  total_trans_amount  total_trans_count  \\\n",
       "Cluster                                                        \n",
       "1         9284.996076         4576.435724          66.462788   \n",
       "2         4957.055035         3742.910408          65.305490   \n",
       "3        18820.138653         3157.547132          55.685287   \n",
       "4         4056.450188         3273.505071          58.149812   \n",
       "5        14645.377985        12957.161994         105.391485   \n",
       "\n",
       "         avg_utilization_ratio  \n",
       "Cluster                         \n",
       "1                     0.258486  \n",
       "2                     0.322616  \n",
       "3                     0.082090  \n",
       "4                     0.379970  \n",
       "5                     0.165227  "
      ]
     },
     "execution_count": 182,
     "metadata": {},
     "output_type": "execute_result"
    }
   ],
   "source": [
    "df.groupby('Cluster')[['age', 'estimated_income', 'dependent_count', 'months_on_book', 'credit_limit', \n",
    "            'total_trans_amount', 'total_trans_count', 'avg_utilization_ratio']].mean()"
   ]
  },
  {
   "cell_type": "code",
   "execution_count": 161,
   "metadata": {},
   "outputs": [
    {
     "data": {
      "image/png": "[encoded data removed]",
      "text/plain": [
       "<Figure size 1440x1008 with 10 Axes>"
      ]
     },
     "metadata": {
      "needs_background": "light"
     },
     "output_type": "display_data"
    }
   ],
   "source": [
    "numeric_columns = df.select_dtypes(include=np.number).drop(['customer_id', 'Cluster'], axis=1).columns\n",
    "\n",
    "fig = plt.figure(figsize=(20, 14))\n",
    "for i, column in enumerate(numeric_columns):\n",
    "    df_plot = df.groupby('Cluster')[column].mean()\n",
    "    ax = fig.add_subplot(4, 3, i+1)\n",
    "    ax.bar(df_plot.index, df_plot, color=sns.color_palette('Set1'), alpha=0.6)\n",
    "    ax.set_title(f'Average {column.title()} per Cluster', alpha=0.5)\n",
    "    ax.xaxis.grid(False)\n",
    "    \n",
    "plt.tight_layout()\n",
    "plt.show()"
   ]
  },
  {
   "cell_type": "markdown",
   "metadata": {},
   "source": [
    "Characteristics of each cluster based on the table and plots above:\n",
    "\n",
    "`Cluster 1`: Medium income earners, medium credit limit, and an average utilization ratio of 0.26\n",
    "\n",
    "`Cluster 2`: Low income, low credit limit, low transaction amount and an average utilization ratio of 0.32\n",
    "\n",
    "`Cluster 3`: High income, high credit limit, low transaction and average utilization ratio of 0.08\n",
    "\n",
    "`Cluster 4`: Low income, low credit limit, low transaction amount and an average utilization ratio of 0.38\n",
    "\n",
    "`Cluster 5`: Medium income, high credit limit, high transaction amount and an average utilization ratio of 0.17"
   ]
  },
  {
   "cell_type": "code",
   "execution_count": 175,
   "metadata": {},
   "outputs": [
    {
     "data": {
      "text/html": [
       "<div>\n",
       "<style scoped>\n",
       "    .dataframe tbody tr th:only-of-type {\n",
       "        vertical-align: middle;\n",
       "    }\n",
       "\n",
       "    .dataframe tbody tr th {\n",
       "        vertical-align: top;\n",
       "    }\n",
       "\n",
       "    .dataframe thead th {\n",
       "        text-align: right;\n",
       "    }\n",
       "</style>\n",
       "<table border=\"1\" class=\"dataframe\">\n",
       "  <thead>\n",
       "    <tr style=\"text-align: right;\">\n",
       "      <th>gender</th>\n",
       "      <th>F</th>\n",
       "      <th>M</th>\n",
       "    </tr>\n",
       "    <tr>\n",
       "      <th>Cluster</th>\n",
       "      <th></th>\n",
       "      <th></th>\n",
       "    </tr>\n",
       "  </thead>\n",
       "  <tbody>\n",
       "    <tr>\n",
       "      <th>1</th>\n",
       "      <td>380</td>\n",
       "      <td>359</td>\n",
       "    </tr>\n",
       "    <tr>\n",
       "      <th>2</th>\n",
       "      <td>2060</td>\n",
       "      <td>909</td>\n",
       "    </tr>\n",
       "    <tr>\n",
       "      <th>3</th>\n",
       "      <td>68</td>\n",
       "      <td>1937</td>\n",
       "    </tr>\n",
       "    <tr>\n",
       "      <th>4</th>\n",
       "      <td>2513</td>\n",
       "      <td>938</td>\n",
       "    </tr>\n",
       "    <tr>\n",
       "      <th>5</th>\n",
       "      <td>337</td>\n",
       "      <td>626</td>\n",
       "    </tr>\n",
       "  </tbody>\n",
       "</table>\n",
       "</div>"
      ],
      "text/plain": [
       "gender      F     M\n",
       "Cluster            \n",
       "1         380   359\n",
       "2        2060   909\n",
       "3          68  1937\n",
       "4        2513   938\n",
       "5         337   626"
      ]
     },
     "execution_count": 175,
     "metadata": {},
     "output_type": "execute_result"
    }
   ],
   "source": [
    "pd.crosstab(index=df['Cluster'], columns=df['gender'])"
   ]
  },
  {
   "cell_type": "code",
   "execution_count": 178,
   "metadata": {},
   "outputs": [
    {
     "data": {
      "text/html": [
       "<div>\n",
       "<style scoped>\n",
       "    .dataframe tbody tr th:only-of-type {\n",
       "        vertical-align: middle;\n",
       "    }\n",
       "\n",
       "    .dataframe tbody tr th {\n",
       "        vertical-align: top;\n",
       "    }\n",
       "\n",
       "    .dataframe thead th {\n",
       "        text-align: right;\n",
       "    }\n",
       "</style>\n",
       "<table border=\"1\" class=\"dataframe\">\n",
       "  <thead>\n",
       "    <tr style=\"text-align: right;\">\n",
       "      <th>marital_status</th>\n",
       "      <th>Divorced</th>\n",
       "      <th>Married</th>\n",
       "      <th>Single</th>\n",
       "      <th>Unknown</th>\n",
       "    </tr>\n",
       "    <tr>\n",
       "      <th>Cluster</th>\n",
       "      <th></th>\n",
       "      <th></th>\n",
       "      <th></th>\n",
       "      <th></th>\n",
       "    </tr>\n",
       "  </thead>\n",
       "  <tbody>\n",
       "    <tr>\n",
       "      <th>1</th>\n",
       "      <td>0</td>\n",
       "      <td>0</td>\n",
       "      <td>0</td>\n",
       "      <td>739</td>\n",
       "    </tr>\n",
       "    <tr>\n",
       "      <th>2</th>\n",
       "      <td>125</td>\n",
       "      <td>0</td>\n",
       "      <td>2844</td>\n",
       "      <td>0</td>\n",
       "    </tr>\n",
       "    <tr>\n",
       "      <th>3</th>\n",
       "      <td>232</td>\n",
       "      <td>1081</td>\n",
       "      <td>692</td>\n",
       "      <td>0</td>\n",
       "    </tr>\n",
       "    <tr>\n",
       "      <th>4</th>\n",
       "      <td>302</td>\n",
       "      <td>3149</td>\n",
       "      <td>0</td>\n",
       "      <td>0</td>\n",
       "    </tr>\n",
       "    <tr>\n",
       "      <th>5</th>\n",
       "      <td>89</td>\n",
       "      <td>457</td>\n",
       "      <td>407</td>\n",
       "      <td>10</td>\n",
       "    </tr>\n",
       "  </tbody>\n",
       "</table>\n",
       "</div>"
      ],
      "text/plain": [
       "marital_status  Divorced  Married  Single  Unknown\n",
       "Cluster                                           \n",
       "1                      0        0       0      739\n",
       "2                    125        0    2844        0\n",
       "3                    232     1081     692        0\n",
       "4                    302     3149       0        0\n",
       "5                     89      457     407       10"
      ]
     },
     "execution_count": 178,
     "metadata": {},
     "output_type": "execute_result"
    }
   ],
   "source": [
    "pd.crosstab(index=df['Cluster'], columns=df['marital_status'])"
   ]
  },
  {
   "cell_type": "code",
   "execution_count": 177,
   "metadata": {},
   "outputs": [
    {
     "data": {
      "text/html": [
       "<div>\n",
       "<style scoped>\n",
       "    .dataframe tbody tr th:only-of-type {\n",
       "        vertical-align: middle;\n",
       "    }\n",
       "\n",
       "    .dataframe tbody tr th {\n",
       "        vertical-align: top;\n",
       "    }\n",
       "\n",
       "    .dataframe thead th {\n",
       "        text-align: right;\n",
       "    }\n",
       "</style>\n",
       "<table border=\"1\" class=\"dataframe\">\n",
       "  <thead>\n",
       "    <tr style=\"text-align: right;\">\n",
       "      <th>education_level</th>\n",
       "      <th>College</th>\n",
       "      <th>Doctorate</th>\n",
       "      <th>Graduate</th>\n",
       "      <th>High School</th>\n",
       "      <th>Post-Graduate</th>\n",
       "      <th>Uneducated</th>\n",
       "    </tr>\n",
       "    <tr>\n",
       "      <th>Cluster</th>\n",
       "      <th></th>\n",
       "      <th></th>\n",
       "      <th></th>\n",
       "      <th></th>\n",
       "      <th></th>\n",
       "      <th></th>\n",
       "    </tr>\n",
       "  </thead>\n",
       "  <tbody>\n",
       "    <tr>\n",
       "      <th>1</th>\n",
       "      <td>83</td>\n",
       "      <td>30</td>\n",
       "      <td>264</td>\n",
       "      <td>176</td>\n",
       "      <td>59</td>\n",
       "      <td>127</td>\n",
       "    </tr>\n",
       "    <tr>\n",
       "      <th>2</th>\n",
       "      <td>350</td>\n",
       "      <td>166</td>\n",
       "      <td>1080</td>\n",
       "      <td>674</td>\n",
       "      <td>169</td>\n",
       "      <td>530</td>\n",
       "    </tr>\n",
       "    <tr>\n",
       "      <th>3</th>\n",
       "      <td>237</td>\n",
       "      <td>99</td>\n",
       "      <td>722</td>\n",
       "      <td>482</td>\n",
       "      <td>116</td>\n",
       "      <td>349</td>\n",
       "    </tr>\n",
       "    <tr>\n",
       "      <th>4</th>\n",
       "      <td>414</td>\n",
       "      <td>189</td>\n",
       "      <td>1270</td>\n",
       "      <td>789</td>\n",
       "      <td>220</td>\n",
       "      <td>569</td>\n",
       "    </tr>\n",
       "    <tr>\n",
       "      <th>5</th>\n",
       "      <td>108</td>\n",
       "      <td>44</td>\n",
       "      <td>349</td>\n",
       "      <td>230</td>\n",
       "      <td>52</td>\n",
       "      <td>180</td>\n",
       "    </tr>\n",
       "  </tbody>\n",
       "</table>\n",
       "</div>"
      ],
      "text/plain": [
       "education_level  College  Doctorate  Graduate  High School  Post-Graduate  \\\n",
       "Cluster                                                                     \n",
       "1                     83         30       264          176             59   \n",
       "2                    350        166      1080          674            169   \n",
       "3                    237         99       722          482            116   \n",
       "4                    414        189      1270          789            220   \n",
       "5                    108         44       349          230             52   \n",
       "\n",
       "education_level  Uneducated  \n",
       "Cluster                      \n",
       "1                       127  \n",
       "2                       530  \n",
       "3                       349  \n",
       "4                       569  \n",
       "5                       180  "
      ]
     },
     "execution_count": 177,
     "metadata": {},
     "output_type": "execute_result"
    }
   ],
   "source": [
    "pd.crosstab(index=df['Cluster'], columns=df['education_level'])"
   ]
  },
  {
   "cell_type": "code",
   "execution_count": 181,
   "metadata": {},
   "outputs": [
    {
     "data": {
      "image/png": "[encoded data removed]",
      "text/plain": [
       "<Figure size 1296x432 with 3 Axes>"
      ]
     },
     "metadata": {
      "needs_background": "light"
     },
     "output_type": "display_data"
    }
   ],
   "source": [
    "cat_columns = df.select_dtypes(include=['object'])\n",
    "\n",
    "fig = plt.figure(figsize=(18, 6))\n",
    "\n",
    "for i, col in enumerate(cat_columns):\n",
    "    plot_df = pd.crosstab(index=df['Cluster'], columns=df[col], values=df[col], aggfunc='size', normalize='index')\n",
    "    ax = fig.add_subplot(1, 3, i+1)\n",
    "    plot_df.plot.bar(stacked=True, ax=ax, alpha=0.6)\n",
    "    ax.set_title(f'% {col.title()} per Cluster', alpha=0.5)\n",
    "\n",
    "    ax.set_ylim(0, 1.4)\n",
    "    ax.legend(frameon=False)\n",
    "    ax.xaxis.grid(False)\n",
    "    \n",
    "    labels = [0, 0.2, 0.4, 0.6, 0.8, 1]\n",
    "    ax.set_yticklabels(labels)\n",
    "\n",
    "plt.tight_layout()\n",
    "#plt.show()"
   ]
  },
  {
   "cell_type": "markdown",
   "metadata": {},
   "source": [
    "For the categorical features, what stands out the most from the 3 plots above is that: \n",
    "* `Cluster 1` has an equal distribution of men and women with unknown marital status\n",
    "* `Cluster 2` is mostly single people (mostly women)\n",
    "* `Cluster 3` is mostly men, both married and single (but mostly married)\n",
    "* `Cluster 4` is mostly married women\n",
    "* `Cluster 5` is both single and married people, but mostly men\n",
    "\n",
    "It's very clear that educational levels are well divided between all clusters, nothing stands out here. "
   ]
  },
  {
   "cell_type": "code",
   "execution_count": 183,
   "metadata": {},
   "outputs": [
    {
     "data": {
      "text/html": [
       "<div>\n",
       "<style scoped>\n",
       "    .dataframe tbody tr th:only-of-type {\n",
       "        vertical-align: middle;\n",
       "    }\n",
       "\n",
       "    .dataframe tbody tr th {\n",
       "        vertical-align: top;\n",
       "    }\n",
       "\n",
       "    .dataframe thead th {\n",
       "        text-align: right;\n",
       "    }\n",
       "</style>\n",
       "<table border=\"1\" class=\"dataframe\">\n",
       "  <thead>\n",
       "    <tr style=\"text-align: right;\">\n",
       "      <th></th>\n",
       "      <th>customer_id</th>\n",
       "      <th>Cluster</th>\n",
       "    </tr>\n",
       "  </thead>\n",
       "  <tbody>\n",
       "    <tr>\n",
       "      <th>0</th>\n",
       "      <td>768805383</td>\n",
       "      <td>3</td>\n",
       "    </tr>\n",
       "    <tr>\n",
       "      <th>1</th>\n",
       "      <td>818770008</td>\n",
       "      <td>2</td>\n",
       "    </tr>\n",
       "    <tr>\n",
       "      <th>2</th>\n",
       "      <td>713982108</td>\n",
       "      <td>3</td>\n",
       "    </tr>\n",
       "    <tr>\n",
       "      <th>3</th>\n",
       "      <td>769911858</td>\n",
       "      <td>1</td>\n",
       "    </tr>\n",
       "    <tr>\n",
       "      <th>4</th>\n",
       "      <td>709106358</td>\n",
       "      <td>4</td>\n",
       "    </tr>\n",
       "    <tr>\n",
       "      <th>...</th>\n",
       "      <td>...</td>\n",
       "      <td>...</td>\n",
       "    </tr>\n",
       "    <tr>\n",
       "      <th>10122</th>\n",
       "      <td>772366833</td>\n",
       "      <td>5</td>\n",
       "    </tr>\n",
       "    <tr>\n",
       "      <th>10123</th>\n",
       "      <td>710638233</td>\n",
       "      <td>2</td>\n",
       "    </tr>\n",
       "    <tr>\n",
       "      <th>10124</th>\n",
       "      <td>716506083</td>\n",
       "      <td>4</td>\n",
       "    </tr>\n",
       "    <tr>\n",
       "      <th>10125</th>\n",
       "      <td>717406983</td>\n",
       "      <td>1</td>\n",
       "    </tr>\n",
       "    <tr>\n",
       "      <th>10126</th>\n",
       "      <td>714337233</td>\n",
       "      <td>4</td>\n",
       "    </tr>\n",
       "  </tbody>\n",
       "</table>\n",
       "<p>10127 rows × 2 columns</p>\n",
       "</div>"
      ],
      "text/plain": [
       "       customer_id  Cluster\n",
       "0        768805383        3\n",
       "1        818770008        2\n",
       "2        713982108        3\n",
       "3        769911858        1\n",
       "4        709106358        4\n",
       "...            ...      ...\n",
       "10122    772366833        5\n",
       "10123    710638233        2\n",
       "10124    716506083        4\n",
       "10125    717406983        1\n",
       "10126    714337233        4\n",
       "\n",
       "[10127 rows x 2 columns]"
      ]
     },
     "execution_count": 183,
     "metadata": {},
     "output_type": "execute_result"
    }
   ],
   "source": [
    "# Each customer in the dataset has been assigned a cluster\n",
    "df[['customer_id', 'Cluster']]"
   ]
  },
  {
   "cell_type": "markdown",
   "metadata": {},
   "source": [
    "## Conclusion"
   ]
  },
  {
   "cell_type": "markdown",
   "metadata": {},
   "source": [
    "By taking note of the most important characteristics of each cluster, we can draw some valuable insights on how to better tailor both business and marketing strategies to better meet the needs of each type of customer.\n",
    "\n",
    "Each customer in the dataset has been assigned to a cluster, here are the general features of each cluster:\n",
    "\n",
    "`Cluster 1`: This cluster represents individuals with moderate incomes and credit limits who use their credit cards moderately, regardless of gender and marital status, suggesting a balanced approach to credit card usage.\n",
    "\n",
    "`Cluster 2`: This group consists of financially cautious, predominantly single women with limited income and credit access, indicating a focus on controlled credit usage while managing within their financial means.\n",
    "\n",
    "`Cluster 3`: This cluster signifies affluent, responsible married men who use credit sparingly for high-value transactions, showcasing strong financial stability and a preference for controlled credit card usage.\n",
    "\n",
    "`Cluster 4`: This cluster consists of mostly married or divorced women with lower incomes and credit limits, exhibiting conservative credit behavior and lower transaction volumes, possibly driven by their financial circumstances.\n",
    "\n",
    "`Cluster 5`: Both married and single men in this cluster enjoy higher credit limits, engage in substantial transactions, and maintain a reasonable credit utilization ratio, highlighting a balanced and proactive credit usage pattern."
   ]
  }
 ],
 "metadata": {
  "kernelspec": {
   "display_name": "Anaconda (Base)",
   "language": "python",
   "name": "anaconda-base"
  },
  "language_info": {
   "codemirror_mode": {
    "name": "ipython",
    "version": 3
   },
   "file_extension": ".py",
   "mimetype": "text/x-python",
   "name": "python",
   "nbconvert_exporter": "python",
   "pygments_lexer": "ipython3",
   "version": "3.9.7"
  },
  "orig_nbformat": 4,
  "vscode": {
   "interpreter": {
    "hash": "e3734de393196d75ece10bce8bcd053922ae0ca0033c1105aea6cb88a41e143b"
   }
  }
 },
 "nbformat": 4,
 "nbformat_minor": 2
}
